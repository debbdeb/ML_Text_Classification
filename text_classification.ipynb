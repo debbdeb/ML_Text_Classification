{
 "cells": [
  {
   "cell_type": "code",
   "execution_count": 121,
   "metadata": {},
   "outputs": [
    {
     "name": "stderr",
     "output_type": "stream",
     "text": [
      "[nltk_data] Downloading package stopwords to\n",
      "[nltk_data]     C:\\Users\\admin\\AppData\\Roaming\\nltk_data...\n",
      "[nltk_data]   Package stopwords is already up-to-date!\n",
      "[nltk_data] Downloading package punkt to\n",
      "[nltk_data]     C:\\Users\\admin\\AppData\\Roaming\\nltk_data...\n",
      "[nltk_data]   Package punkt is already up-to-date!\n",
      "[nltk_data] Downloading package averaged_perceptron_tagger to\n",
      "[nltk_data]     C:\\Users\\admin\\AppData\\Roaming\\nltk_data...\n",
      "[nltk_data]   Package averaged_perceptron_tagger is already up-to-\n",
      "[nltk_data]       date!\n"
     ]
    },
    {
     "data": {
      "text/plain": [
       "True"
      ]
     },
     "execution_count": 121,
     "metadata": {},
     "output_type": "execute_result"
    }
   ],
   "source": [
    "import keras\n",
    "import sklearn\n",
    "import xgboost\n",
    "import textblob\n",
    "import pandas as pd\n",
    "import numpy as np\n",
    "from tensorflow.keras.models import Sequential\n",
    "from tensorflow.keras.layers import Dense\n",
    "from sklearn.feature_extraction.text import TfidfVectorizer\n",
    "from keras.preprocessing.text import Tokenizer\n",
    "import tensorflow.keras.preprocessing\n",
    "from sklearn.model_selection import train_test_split\n",
    "from tensorflow.keras.layers import *\n",
    "import matplotlib.pyplot as plt\n",
    "from sklearn.feature_extraction.text import TfidfVectorizer, CountVectorizer\n",
    "from sklearn.decomposition import LatentDirichletAllocation\n",
    "import nltk\n",
    "nltk.download('punkt')\n",
    "nltk.download('averaged_perceptron_tagger')\n",
    "import re\n",
    "nltk.download('stopwords')\n",
    "from nltk.corpus import stopwords\n",
    "import  networkx\n",
    "from sklearn import model_selection, preprocessing, linear_model, naive_bayes, metrics, svm\n",
    "from sklearn.feature_extraction.text import TfidfVectorizer, CountVectorizer\n",
    "from sklearn import decomposition, ensemble\n",
    "import pandas, xgboost, numpy, textblob, string\n",
    "from keras.preprocessing import text, sequence\n",
    "from  keras import layers, models, optimizers\n",
    "from keras.wrappers.scikit_learn import KerasClassifier"
   ]
  },
  {
   "cell_type": "code",
   "execution_count": 131,
   "metadata": {},
   "outputs": [
    {
     "name": "stdout",
     "output_type": "stream",
     "text": [
      "The file read looks as follows:\n",
      "                                                text target\n",
      "0  we test in the context of a dictator game the ...   AIMX\n",
      "1  we manipulated the likelihood that individuals...   OWNX\n",
      "2  our analysis reveals a positive and significan...   OWNX\n",
      "3  the magnitude of the effect is of economic sig...   OWNX\n",
      "4  we conclude that subtle cues might prove suffi...   OWNX\n",
      "5  lured by temptation, individuals may find them...   MISC\n",
      "6  self-control failure, famously termed akrasia ...   MISC\n",
      "7  for example, the dieter faced with the opportu...   MISC\n"
     ]
    }
   ],
   "source": [
    "#Read the file jdm_annotate3_120_1.txt in https://archive.ics.uci.edu/ml/datasets/Sentence+Classification having two columns.\n",
    "#In the file there are two columns. They are named as text and target.\n",
    "#Text column can have sentences or phrases. And target column have AIMX, OWNX, MISC, CONT, or BASE. \n",
    "#The goal is to build classifiers that would read the text and predict the target.\n",
    "#Relevant paper: A. Chambers. Statistical models for text classification: Applications and analysis, Ph.D., University of California, Irvine (2013). ProQuest Dissertations and Theses.\n",
    "\n",
    "doc1 = pd.read_csv(r\"C:\\\\jdm_annotate3_120_1.txt\", sep='\\t')\n",
    "text = np.asarray(doc1.text)\n",
    "target = np.asarray(doc1.target)\n",
    "doc = pd.DataFrame({'text':text, 'target':target})\n",
    "print(\"The file read looks as follows:\")\n",
    "print(doc.head(8))"
   ]
  },
  {
   "cell_type": "code",
   "execution_count": 132,
   "metadata": {},
   "outputs": [],
   "source": [
    "#split the dataset into training and validation \n",
    "train_x, valid_x, train_y, valid_y = model_selection.train_test_split(doc['text'], doc['target'], train_size=.6, stratify=doc['target'])\n",
    "\n",
    "#target column can have AIMX, OWNX, MISC, CONT, BASE. label encode the target variable\n",
    "encoder = preprocessing.LabelEncoder()\n",
    "train_y = encoder.fit_transform(train_y)\n",
    "valid_y = encoder.fit_transform(valid_y)\n",
    "\n",
    "#create TF count vector as feature\n",
    "count_vect = CountVectorizer(max_df=0.95, min_df=2, max_features=1000, stop_words='english')\n",
    "tf = count_vect.fit_transform(doc['text'])\n",
    "tf_feature_names = count_vect.get_feature_names()\n",
    "xtrain_count =  count_vect.transform(train_x)\n",
    "xvalid_count =  count_vect.transform(valid_x)\n",
    "\n",
    "\n",
    "# create tf-idf feature vector. Word level tf-idf\n",
    "tfidf_vect = TfidfVectorizer(analyzer='word', token_pattern=r'\\w{1,}', max_features=5000)\n",
    "tfidf_vect.fit(doc['text'])\n",
    "xtrain_tfidf_word =  tfidf_vect.transform(train_x)\n",
    "xvalid_tfidf_word =  tfidf_vect.transform(valid_x)\n",
    "\n",
    "# create tf-idf feature vector. ngram level tf-idf \n",
    "tfidf_vect_ngram = TfidfVectorizer(analyzer='word', token_pattern=r'\\w{1,}', ngram_range=(2,3), max_features=5000)\n",
    "tfidf_vect_ngram.fit(doc['text'])\n",
    "xtrain_tfidf_ngram =  tfidf_vect_ngram.transform(train_x)\n",
    "xvalid_tfidf_ngram =  tfidf_vect_ngram.transform(valid_x)\n",
    "\n",
    "# create tf-idf feature vector. characters level tf-idf\n",
    "tfidf_vect_ngram_chars = TfidfVectorizer(analyzer='char', token_pattern=r'\\w{1,}', ngram_range=(1,1), max_features=5000)\n",
    "tfidf_vect_ngram_chars.fit(doc['text'])\n",
    "xtrain_tfidf_ngram_chars =  tfidf_vect_ngram_chars.transform(train_x) \n",
    "xvalid_tfidf_ngram_chars =  tfidf_vect_ngram_chars.transform(valid_x) "
   ]
  },
  {
   "cell_type": "code",
   "execution_count": 133,
   "metadata": {},
   "outputs": [
    {
     "name": "stdout",
     "output_type": "stream",
     "text": [
      "Topic 0:\n",
      "self conflict control citation individual strategies temptation stage individuals face\n",
      "Topic 1:\n",
      "citation temptation conflict self control judgment better act face urges\n",
      "Topic 2:\n",
      "citation self control likely decision future et relation viewed game\n",
      "Topic 3:\n",
      "control self behavior social pro conflict calendar participants selfish viewed\n",
      "Topic 4:\n",
      "individuals pro self social behavior act control decisions good citation\n"
     ]
    }
   ],
   "source": [
    "# train a LDA Model\n",
    "\n",
    "lda = LatentDirichletAllocation(n_components=5, max_iter=5, learning_method='online', learning_offset=50.).fit(tf)\n",
    "\n",
    "def display_topics(model, feature_names, no_top_words):\n",
    "    for topic_idx, topic in enumerate(model.components_):\n",
    "        print (\"Topic %d:\" % (topic_idx))\n",
    "        print (\" \".join([feature_names[i]\n",
    "                        for i in topic.argsort()[:-no_top_words - 1:-1]]))\n",
    "\n",
    "display_topics(lda, tf_feature_names, 10)"
   ]
  },
  {
   "cell_type": "code",
   "execution_count": 135,
   "metadata": {},
   "outputs": [
    {
     "name": "stdout",
     "output_type": "stream",
     "text": [
      "NB, Count Vectors:  0.5625\n",
      "NB, WordLevel TF-IDF:  0.75\n",
      "NB, N-Gram Vectors:  0.75\n",
      "NB, CharLevel Vectors:  0.75\n",
      "LR, Count Vectors:  0.8125\n",
      "LR, WordLevel TF-IDF:  0.75\n",
      "LR, N-Gram Vectors:  0.75\n",
      "LR, CharLevel Vectors:  0.75\n",
      "SVM, N-Gram Vectors:  0.75\n",
      "RF, Count Vectors:  0.8125\n",
      "RF, WordLevel TF-IDF:  0.78125\n"
     ]
    },
    {
     "name": "stderr",
     "output_type": "stream",
     "text": [
      "C:\\Users\\admin\\Anaconda3\\envs\\keras2\\lib\\site-packages\\sklearn\\linear_model\\logistic.py:432: FutureWarning: Default solver will be changed to 'lbfgs' in 0.22. Specify a solver to silence this warning.\n",
      "  FutureWarning)\n",
      "C:\\Users\\admin\\Anaconda3\\envs\\keras2\\lib\\site-packages\\sklearn\\linear_model\\logistic.py:469: FutureWarning: Default multi_class will be changed to 'auto' in 0.22. Specify the multi_class option to silence this warning.\n",
      "  \"this warning.\", FutureWarning)\n",
      "C:\\Users\\admin\\Anaconda3\\envs\\keras2\\lib\\site-packages\\sklearn\\svm\\base.py:193: FutureWarning: The default value of gamma will change from 'auto' to 'scale' in version 0.22 to account better for unscaled features. Set gamma explicitly to 'auto' or 'scale' to avoid this warning.\n",
      "  \"avoid this warning.\", FutureWarning)\n",
      "C:\\Users\\admin\\Anaconda3\\envs\\keras2\\lib\\site-packages\\sklearn\\ensemble\\forest.py:245: FutureWarning: The default value of n_estimators will change from 10 in version 0.20 to 100 in 0.22.\n",
      "  \"10 in version 0.20 to 100 in 0.22.\", FutureWarning)\n",
      "C:\\Users\\admin\\Anaconda3\\envs\\keras2\\lib\\site-packages\\sklearn\\ensemble\\forest.py:245: FutureWarning: The default value of n_estimators will change from 10 in version 0.20 to 100 in 0.22.\n",
      "  \"10 in version 0.20 to 100 in 0.22.\", FutureWarning)\n"
     ]
    },
    {
     "name": "stdout",
     "output_type": "stream",
     "text": [
      "Xgb, Count Vectors:  0.75\n",
      "Xgb, WordLevel TF-IDF:  0.8125\n",
      "Xgb, CharLevel Vectors:  0.78125\n"
     ]
    }
   ],
   "source": [
    "#train various ML models\n",
    "def train_model(classifier, feature_vector_train, label, feature_vector_valid, is_neural_net=False):\n",
    "    # fit the training dataset on the classifier\n",
    "    classifier.fit(feature_vector_train, label)\n",
    "    # predict the labels on validation dataset\n",
    "    predictions = classifier.predict(feature_vector_valid)  \n",
    "    if is_neural_net:\n",
    "        predictions = predictions.argmax(axis=-1)\n",
    "    return metrics.accuracy_score(predictions, valid_y)\n",
    "\n",
    "\n",
    "# Naive Bayes on Count Vectors\n",
    "accuracy = train_model(naive_bayes.MultinomialNB(), xtrain_count, train_y, xvalid_count)\n",
    "print (\"NB, Count Vectors: \", accuracy)\n",
    "# Naive Bayes on Word Level TF IDF Vectors\n",
    "accuracy = train_model(naive_bayes.MultinomialNB(), xtrain_tfidf_word, train_y, xvalid_tfidf_word)\n",
    "print (\"NB, WordLevel TF-IDF: \", accuracy)\n",
    "# Naive Bayes on Ngram Level TF IDF Vectors\n",
    "accuracy = train_model(naive_bayes.MultinomialNB(), xtrain_tfidf_ngram, train_y, xvalid_tfidf_ngram)\n",
    "print (\"NB, N-Gram Vectors: \", accuracy)\n",
    "# Naive Bayes on Character Level TF IDF Vectors\n",
    "accuracy = train_model(naive_bayes.MultinomialNB(), xtrain_tfidf_ngram_chars, train_y, xvalid_tfidf_ngram_chars)\n",
    "print (\"NB, CharLevel Vectors: \", accuracy)\n",
    "\n",
    "\n",
    "# Linear Classifier on Count Vectors\n",
    "accuracy = train_model(linear_model.LogisticRegression(), xtrain_count, train_y, xvalid_count)\n",
    "print (\"LR, Count Vectors: \", accuracy)\n",
    "# Linear Classifier on Word Level TF IDF Vectors\n",
    "accuracy = train_model(linear_model.LogisticRegression(), xtrain_tfidf_word, train_y, xvalid_tfidf_word)\n",
    "print (\"LR, WordLevel TF-IDF: \", accuracy)\n",
    "# Linear Classifier on Ngram Level TF IDF Vectors\n",
    "accuracy = train_model(linear_model.LogisticRegression(), xtrain_tfidf_ngram, train_y, xvalid_tfidf_ngram)\n",
    "print (\"LR, N-Gram Vectors: \", accuracy)\n",
    "# Linear Classifier on Character Level TF IDF Vectors\n",
    "accuracy = train_model(linear_model.LogisticRegression(), xtrain_tfidf_ngram_chars, train_y, xvalid_tfidf_ngram_chars)\n",
    "print (\"LR, CharLevel Vectors: \", accuracy)\n",
    "\n",
    "\n",
    "# SVM on Ngram Level TF IDF Vectors\n",
    "accuracy = train_model(svm.SVC(), xtrain_tfidf_ngram, train_y, xvalid_tfidf_ngram)\n",
    "print (\"SVM, N-Gram Vectors: \", accuracy)\n",
    "\n",
    "\n",
    "# Random Forest on Count Vectors\n",
    "accuracy = train_model(ensemble.RandomForestClassifier(), xtrain_count, train_y, xvalid_count)\n",
    "print (\"RF, Count Vectors: \", accuracy)\n",
    "# RF on Word Level TF IDF Vectors\n",
    "accuracy = train_model(ensemble.RandomForestClassifier(), xtrain_tfidf_word, train_y, xvalid_tfidf_word)\n",
    "print (\"RF, WordLevel TF-IDF: \", accuracy)\n",
    "\n",
    "\n",
    "# Extereme Gradient Boosting on Count Vectors\n",
    "accuracy = train_model(xgboost.XGBClassifier(), xtrain_count.tocsc(), train_y, xvalid_count.tocsc())\n",
    "print (\"Xgb, Count Vectors: \", accuracy)\n",
    "# Extereme Gradient Boosting on Word Level TF IDF Vectors\n",
    "accuracy = train_model(xgboost.XGBClassifier(), xtrain_tfidf_word.tocsc(), train_y, xvalid_tfidf_word.tocsc())\n",
    "print (\"Xgb, WordLevel TF-IDF: \", accuracy)\n",
    "# Extereme Gradient Boosting on Character Level TF IDF Vectors\n",
    "accuracy = train_model(xgboost.XGBClassifier(), xtrain_tfidf_ngram_chars.tocsc(), train_y, xvalid_tfidf_ngram_chars.tocsc())\n",
    "print (\"Xgb, CharLevel Vectors: \", accuracy)\n",
    "\n",
    "\n",
    "#encode the target string to integers using the scikitlearn class LabelEncoder. Then convert the vector of integers to a one hot encoding using the keras function to categorical\n",
    "from sklearn.preprocessing import LabelEncoder\n",
    "from keras import utils as np_utils\n",
    "from keras.utils import to_categorical\n",
    "from sklearn.model_selection import KFold\n",
    "from sklearn.model_selection import cross_val_score\n",
    "\n",
    "#encode class value as integer\n",
    "encoder_train = LabelEncoder()\n",
    "encoder_train.fit(train_y)\n",
    "encoded_train_target = encoder_train.transform(train_y)\n",
    "dummy_target_train = np_utils.to_categorical(encoded_train_target)\n",
    "\n",
    "encoder_valid = LabelEncoder()\n",
    "encoder_valid.fit(valid_y)\n",
    "encoded_valid_target = encoder_train.transform(valid_y)\n",
    "dummy_target_valid = np_utils.to_categorical(encoded_valid_target)\n",
    "\n",
    "encoder_allydata = LabelEncoder()\n",
    "encoder_allydata.fit(doc['target'])\n",
    "encoded_allydata = encoder_allydata.transform(doc['target'])\n",
    "dummy_allydata = np_utils.to_categorical(encoded_allydata)\n",
    "\n",
    "cvec = CountVectorizer(stop_words='english')\n",
    "xx = cvec.fit(doc['text'])\n",
    "dummyall_x = pd.DataFrame(cvec.transform(doc['text']).todense(), columns=cvec.get_feature_names())"
   ]
  },
  {
   "cell_type": "code",
   "execution_count": 136,
   "metadata": {},
   "outputs": [
    {
     "name": "stdout",
     "output_type": "stream",
     "text": [
      "Train on 42 samples, validate on 5 samples\n",
      "Epoch 1/2\n",
      "42/42 [==============================] - 2s 40ms/sample - loss: 1.5332 - acc: 0.3571 - val_loss: 1.4282 - val_acc: 0.6000\n",
      "Epoch 2/2\n",
      "42/42 [==============================] - 0s 500us/sample - loss: 1.5106 - acc: 0.4524 - val_loss: 1.4162 - val_acc: 0.6000\n",
      "32/32 [==============================] - 0s 407us/sample - loss: 1.5068 - acc: 0.5312\n",
      "Accuracy: 0.53125\n"
     ]
    }
   ],
   "source": [
    "#Basic neural network\n",
    "          \n",
    "vectorizer = CountVectorizer(binary=True, stop_words=stopwords.words('english'), lowercase=True, min_df=1, max_df=0.9, max_features=5000)\n",
    "X_train_onehot = vectorizer.fit_transform(train_x)\n",
    "\n",
    "def baseline_model():\n",
    "    model = Sequential()\n",
    "    model.add(Dense(units = 10, activation = 'relu', input_dim = len(vectorizer.get_feature_names())))\n",
    "    model.add(Dense(units=5, activation='softmax'))\n",
    "    model.compile(loss='categorical_crossentropy', optimizer='adam', metrics=['accuracy'])\n",
    "    return model\n",
    "\n",
    "model = baseline_model()\n",
    "model.fit(X_train_onehot[:-5], dummy_target_train[:-5], epochs=2, batch_size=128, shuffle=True, validation_split = 0.1, verbose=1, validation_data=(X_train_onehot[-5:], dummy_target_valid[-5:]))\n",
    "scores = model.evaluate(vectorizer.transform(valid_x), dummy_target_valid, verbose=1)\n",
    "print(\"Accuracy:\", scores[1])\n"
   ]
  },
  {
   "cell_type": "code",
   "execution_count": 137,
   "metadata": {},
   "outputs": [
    {
     "name": "stdout",
     "output_type": "stream",
     "text": [
      "Found 706 unique tokens.\n",
      "Shape of data tensor: (79, 250)\n",
      "Shape of label tensor: (79, 5)\n",
      "(71, 250) (71, 5)\n",
      "(8, 250) (8, 5)\n",
      "Train on 63 samples, validate on 8 samples\n",
      "Epoch 1/2\n",
      "63/63 [==============================] - 9s 142ms/sample - loss: 1.6191 - acc: 0.1111 - val_loss: 1.5885 - val_acc: 0.6250\n",
      "Epoch 2/2\n",
      "63/63 [==============================] - 3s 41ms/sample - loss: 1.5769 - acc: 0.7937 - val_loss: 1.5642 - val_acc: 0.6250\n",
      "8/8 [==============================] - 0s 19ms/sample - loss: 1.5773 - acc: 0.5000\n",
      "Test set\n",
      "  Loss: 1.577\n",
      "  Accuracy: 0.500\n"
     ]
    },
    {
     "data": {
      "image/png": "[encoded data removed]",
      "text/plain": [
       "<Figure size 432x288 with 1 Axes>"
      ]
     },
     "metadata": {
      "needs_background": "light"
     },
     "output_type": "display_data"
    },
    {
     "data": {
      "image/png": "[encoded data removed]",
      "text/plain": [
       "<Figure size 432x288 with 1 Axes>"
      ]
     },
     "metadata": {
      "needs_background": "light"
     },
     "output_type": "display_data"
    }
   ],
   "source": [
    "#LSTM and CNN. \n",
    "#Sequence data have a 1 d spatial structure. Using CNN may help to pick out invariant features for the target. \n",
    "#The learned CNN spatial features are then Learned as sequences by the LSTM later.\n",
    "\n",
    "\n",
    "#MAX NO OF WORDS TO BE USED\n",
    "MAX_NB_WORDS=50000\n",
    "#max no of words in each complaint\n",
    "MAX_SEQUENCE_LENGTH=250\n",
    "EMBEDDING_DIM= 100\n",
    "tokenizer = Tokenizer(num_words=MAX_NB_WORDS, filters='!\"#$%&()*+,-./:;<=>?@[\\]^_`{|}~', lower=True)\n",
    "tokenizer.fit_on_texts(doc['text'].values)\n",
    "word_index = tokenizer.word_index\n",
    "print('Found %s unique tokens.' % len(word_index))\n",
    "\n",
    "X = tokenizer.texts_to_sequences(doc['text'].values)\n",
    "X = keras.preprocessing.sequence.pad_sequences(X, maxlen=MAX_SEQUENCE_LENGTH)\n",
    "print('Shape of data tensor:', X.shape)\n",
    "\n",
    "Y = pd.get_dummies(doc['target']).values\n",
    "print('Shape of label tensor:', Y.shape)\n",
    "\n",
    "X_train, X_test, Y_train, Y_test = train_test_split(X,Y, test_size = 0.10)\n",
    "print(X_train.shape,Y_train.shape)\n",
    "print(X_test.shape,Y_test.shape)\n",
    "\n",
    "model = Sequential()\n",
    "model.add(Embedding(MAX_NB_WORDS, EMBEDDING_DIM, input_length=X.shape[1]))\n",
    "#for CNN\n",
    "model.add(tensorflow.keras.layers.SpatialDropout1D(0.2))\n",
    "model.add(Conv1D(filters=100, kernel_size=10, padding='same', activation='relu'))\n",
    "model.add(MaxPooling1D(pool_size=2))\n",
    "\n",
    "#model.add(SpatialDropout1D(0.2))\n",
    "model.add(LSTM(100, dropout=0.2, recurrent_dropout=0.2))\n",
    "model.add(Dense(5, activation='softmax'))\n",
    "model.compile(loss='categorical_crossentropy', optimizer='adam', metrics=['accuracy'])\n",
    "\n",
    "epochs = 2\n",
    "batch_size = 64\n",
    "\n",
    "history = model.fit(X_train, Y_train, epochs=epochs, batch_size=batch_size,validation_split=0.1,callbacks=[tensorflow.keras.callbacks.EarlyStopping(monitor='val_loss', patience=3, min_delta=0.0001)])\n",
    "accr = model.evaluate(X_test,Y_test)\n",
    "print('Test set\\n  Loss: {:0.3f}\\n  Accuracy: {:0.3f}'.format(accr[0],accr[1]))\n",
    "\n",
    "plt.title('Loss')\n",
    "plt.plot(history.history['loss'], label='train')\n",
    "plt.plot(history.history['val_loss'], label='test')\n",
    "plt.legend()\n",
    "plt.show();\n",
    "\n",
    "plt.title('Accuracy')\n",
    "plt.plot(history.history['acc'], label='train')\n",
    "plt.plot(history.history['val_acc'], label='test')\n",
    "plt.legend()\n",
    "plt.show();"
   ]
  },
  {
   "cell_type": "code",
   "execution_count": null,
   "metadata": {},
   "outputs": [],
   "source": []
  },
  {
   "cell_type": "code",
   "execution_count": 7,
   "metadata": {},
   "outputs": [],
   "source": [
    "#References:\n",
    "#https://archive.ics.uci.edu/ml/datasets/Sentence+Classification\n",
    "#https://towardsdatascience.com/multi-class-text-classification-with-lstm-1590bee1bd17\n",
    "#https://www.analyticsvidhya.com/blog/2018/04/a-comprehensive-guide-to-understand-and-implement-text-classification-in-python/\n",
    "#https://medium.com/mlreview/topic-modeling-with-scikit-learn-e80d33668730"
   ]
  }
 ],
 "metadata": {
  "kernelspec": {
   "display_name": "Python 3",
   "language": "python",
   "name": "python3"
  },
  "language_info": {
   "codemirror_mode": {
    "name": "ipython",
    "version": 3
   },
   "file_extension": ".py",
   "mimetype": "text/x-python",
   "name": "python",
   "nbconvert_exporter": "python",
   "pygments_lexer": "ipython3",
   "version": "3.6.8"
  }
 },
 "nbformat": 4,
 "nbformat_minor": 2
}
